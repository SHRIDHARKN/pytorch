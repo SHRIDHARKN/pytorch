{
  "nbformat": 4,
  "nbformat_minor": 0,
  "metadata": {
    "colab": {
      "provenance": [],
      "authorship_tag": "ABX9TyNzYmgDABF8F+FwoZf37daL",
      "include_colab_link": true
    },
    "kernelspec": {
      "name": "python3",
      "display_name": "Python 3"
    },
    "language_info": {
      "name": "python"
    }
  },
  "cells": [
    {
      "cell_type": "markdown",
      "metadata": {
        "id": "view-in-github",
        "colab_type": "text"
      },
      "source": [
        "<a href=\"https://colab.research.google.com/github/SHRIDHARKN/pytorch/blob/main/pytorch.ipynb\" target=\"_parent\"><img src=\"https://colab.research.google.com/assets/colab-badge.svg\" alt=\"Open In Colab\"/></a>"
      ]
    },
    {
      "cell_type": "code",
      "execution_count": 4,
      "metadata": {
        "id": "wRBXWurIcX0Q"
      },
      "outputs": [],
      "source": [
        "import torch\n",
        "import numpy as np"
      ]
    },
    {
      "cell_type": "code",
      "source": [
        "np.random.rand(3,4)"
      ],
      "metadata": {
        "colab": {
          "base_uri": "https://localhost:8080/"
        },
        "id": "cIPpFtWWdieO",
        "outputId": "8f150ee6-e0a2-48b7-92fe-861b84e6da6d"
      },
      "execution_count": 5,
      "outputs": [
        {
          "output_type": "execute_result",
          "data": {
            "text/plain": [
              "array([[0.51179604, 0.85008153, 0.4401542 , 0.005948  ],\n",
              "       [0.09029129, 0.46975211, 0.91699994, 0.21468247],\n",
              "       [0.68883793, 0.03219568, 0.65903709, 0.57372836]])"
            ]
          },
          "metadata": {},
          "execution_count": 5
        }
      ]
    },
    {
      "cell_type": "code",
      "source": [
        "torch.rand(3,4)"
      ],
      "metadata": {
        "id": "qyFo5Hnrdz4h",
        "colab": {
          "base_uri": "https://localhost:8080/"
        },
        "outputId": "1074368f-24f7-4811-b61c-ac7635aafcff"
      },
      "execution_count": 6,
      "outputs": [
        {
          "output_type": "execute_result",
          "data": {
            "text/plain": [
              "tensor([[0.8723, 0.4072, 0.7749, 0.7489],\n",
              "        [0.1531, 0.1149, 0.1263, 0.1449],\n",
              "        [0.4850, 0.9299, 0.2040, 0.2670]])"
            ]
          },
          "metadata": {},
          "execution_count": 6
        }
      ]
    },
    {
      "cell_type": "code",
      "source": [
        "torch.rand(5,2,3)"
      ],
      "metadata": {
        "colab": {
          "base_uri": "https://localhost:8080/"
        },
        "id": "4ZyTpzgbgl-f",
        "outputId": "2b9a5b30-70ef-4790-f91c-bb6911c95aa6"
      },
      "execution_count": 12,
      "outputs": [
        {
          "output_type": "execute_result",
          "data": {
            "text/plain": [
              "tensor([[[0.6718, 0.8967, 0.9837],\n",
              "         [0.3922, 0.8380, 0.4600]],\n",
              "\n",
              "        [[0.0895, 0.6410, 0.9279],\n",
              "         [0.0506, 0.5461, 0.5423]],\n",
              "\n",
              "        [[0.7702, 0.9938, 0.0792],\n",
              "         [0.0778, 0.9129, 0.3407]],\n",
              "\n",
              "        [[0.4541, 0.2830, 0.1017],\n",
              "         [0.0921, 0.9216, 0.5995]],\n",
              "\n",
              "        [[0.1207, 0.0225, 0.8866],\n",
              "         [0.3632, 0.2390, 0.9239]]])"
            ]
          },
          "metadata": {},
          "execution_count": 12
        }
      ]
    },
    {
      "cell_type": "code",
      "source": [
        "torch.tensor(np.random.rand(2,3))"
      ],
      "metadata": {
        "colab": {
          "base_uri": "https://localhost:8080/"
        },
        "id": "qn8MZGM9g3Ln",
        "outputId": "02eaec04-59be-4891-8e81-692c07736b1a"
      },
      "execution_count": 13,
      "outputs": [
        {
          "output_type": "execute_result",
          "data": {
            "text/plain": [
              "tensor([[0.2822, 0.4856, 0.2884],\n",
              "        [0.4365, 0.8431, 0.4092]], dtype=torch.float64)"
            ]
          },
          "metadata": {},
          "execution_count": 13
        }
      ]
    },
    {
      "cell_type": "code",
      "source": [],
      "metadata": {
        "id": "h0JZ7rpGg3aT"
      },
      "execution_count": null,
      "outputs": []
    },
    {
      "cell_type": "code",
      "source": [],
      "metadata": {
        "id": "Uy7Sy3B9hFIi"
      },
      "execution_count": null,
      "outputs": []
    },
    {
      "cell_type": "code",
      "source": [],
      "metadata": {
        "id": "HhirmMT7hFKm"
      },
      "execution_count": null,
      "outputs": []
    },
    {
      "cell_type": "code",
      "source": [],
      "metadata": {
        "id": "NHG0mzt2hFM4"
      },
      "execution_count": null,
      "outputs": []
    },
    {
      "cell_type": "code",
      "source": [],
      "metadata": {
        "id": "0YWrRhD-hFPE"
      },
      "execution_count": null,
      "outputs": []
    },
    {
      "cell_type": "code",
      "source": [],
      "metadata": {
        "id": "8YwTP37whFSf"
      },
      "execution_count": null,
      "outputs": []
    }
  ]
}