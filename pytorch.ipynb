{
  "nbformat": 4,
  "nbformat_minor": 0,
  "metadata": {
    "colab": {
      "provenance": [],
      "authorship_tag": "ABX9TyOwmbesIQic7Z+I+uBlbJjL",
      "include_colab_link": true
    },
    "kernelspec": {
      "name": "python3",
      "display_name": "Python 3"
    },
    "language_info": {
      "name": "python"
    }
  },
  "cells": [
    {
      "cell_type": "markdown",
      "metadata": {
        "id": "view-in-github",
        "colab_type": "text"
      },
      "source": [
        "<a href=\"https://colab.research.google.com/github/SHRIDHARKN/pytorch/blob/main/pytorch.ipynb\" target=\"_parent\"><img src=\"https://colab.research.google.com/assets/colab-badge.svg\" alt=\"Open In Colab\"/></a>"
      ]
    },
    {
      "cell_type": "code",
      "execution_count": 4,
      "metadata": {
        "id": "wRBXWurIcX0Q"
      },
      "outputs": [],
      "source": [
        "import torch\n",
        "import numpy as np"
      ]
    },
    {
      "cell_type": "code",
      "source": [
        "np.random.rand(3,4)"
      ],
      "metadata": {
        "colab": {
          "base_uri": "https://localhost:8080/"
        },
        "id": "cIPpFtWWdieO",
        "outputId": "8f150ee6-e0a2-48b7-92fe-861b84e6da6d"
      },
      "execution_count": 5,
      "outputs": [
        {
          "output_type": "execute_result",
          "data": {
            "text/plain": [
              "array([[0.51179604, 0.85008153, 0.4401542 , 0.005948  ],\n",
              "       [0.09029129, 0.46975211, 0.91699994, 0.21468247],\n",
              "       [0.68883793, 0.03219568, 0.65903709, 0.57372836]])"
            ]
          },
          "metadata": {},
          "execution_count": 5
        }
      ]
    },
    {
      "cell_type": "code",
      "source": [
        "torch.rand(3,4)"
      ],
      "metadata": {
        "id": "qyFo5Hnrdz4h",
        "colab": {
          "base_uri": "https://localhost:8080/"
        },
        "outputId": "1074368f-24f7-4811-b61c-ac7635aafcff"
      },
      "execution_count": 6,
      "outputs": [
        {
          "output_type": "execute_result",
          "data": {
            "text/plain": [
              "tensor([[0.8723, 0.4072, 0.7749, 0.7489],\n",
              "        [0.1531, 0.1149, 0.1263, 0.1449],\n",
              "        [0.4850, 0.9299, 0.2040, 0.2670]])"
            ]
          },
          "metadata": {},
          "execution_count": 6
        }
      ]
    },
    {
      "cell_type": "code",
      "source": [
        "torch.rand(5,2,3)"
      ],
      "metadata": {
        "colab": {
          "base_uri": "https://localhost:8080/"
        },
        "id": "4ZyTpzgbgl-f",
        "outputId": "2b9a5b30-70ef-4790-f91c-bb6911c95aa6"
      },
      "execution_count": 12,
      "outputs": [
        {
          "output_type": "execute_result",
          "data": {
            "text/plain": [
              "tensor([[[0.6718, 0.8967, 0.9837],\n",
              "         [0.3922, 0.8380, 0.4600]],\n",
              "\n",
              "        [[0.0895, 0.6410, 0.9279],\n",
              "         [0.0506, 0.5461, 0.5423]],\n",
              "\n",
              "        [[0.7702, 0.9938, 0.0792],\n",
              "         [0.0778, 0.9129, 0.3407]],\n",
              "\n",
              "        [[0.4541, 0.2830, 0.1017],\n",
              "         [0.0921, 0.9216, 0.5995]],\n",
              "\n",
              "        [[0.1207, 0.0225, 0.8866],\n",
              "         [0.3632, 0.2390, 0.9239]]])"
            ]
          },
          "metadata": {},
          "execution_count": 12
        }
      ]
    },
    {
      "cell_type": "code",
      "source": [
        "torch.tensor(np.random.rand(2,3))"
      ],
      "metadata": {
        "colab": {
          "base_uri": "https://localhost:8080/"
        },
        "id": "qn8MZGM9g3Ln",
        "outputId": "02eaec04-59be-4891-8e81-692c07736b1a"
      },
      "execution_count": 13,
      "outputs": [
        {
          "output_type": "execute_result",
          "data": {
            "text/plain": [
              "tensor([[0.2822, 0.4856, 0.2884],\n",
              "        [0.4365, 0.8431, 0.4092]], dtype=torch.float64)"
            ]
          },
          "metadata": {},
          "execution_count": 13
        }
      ]
    },
    {
      "cell_type": "code",
      "source": [
        "torch.arange(10)"
      ],
      "metadata": {
        "colab": {
          "base_uri": "https://localhost:8080/"
        },
        "id": "h0JZ7rpGg3aT",
        "outputId": "c16879b9-5c54-4637-c895-46dcfa2ccb1b"
      },
      "execution_count": 14,
      "outputs": [
        {
          "output_type": "execute_result",
          "data": {
            "text/plain": [
              "tensor([0, 1, 2, 3, 4, 5, 6, 7, 8, 9])"
            ]
          },
          "metadata": {},
          "execution_count": 14
        }
      ]
    },
    {
      "cell_type": "code",
      "source": [
        "torch.arange(10).reshape(5,2)"
      ],
      "metadata": {
        "colab": {
          "base_uri": "https://localhost:8080/"
        },
        "id": "Uy7Sy3B9hFIi",
        "outputId": "4d5bbfec-723a-4445-e19f-9dde686b0dd2"
      },
      "execution_count": 16,
      "outputs": [
        {
          "output_type": "execute_result",
          "data": {
            "text/plain": [
              "tensor([[0, 1],\n",
              "        [2, 3],\n",
              "        [4, 5],\n",
              "        [6, 7],\n",
              "        [8, 9]])"
            ]
          },
          "metadata": {},
          "execution_count": 16
        }
      ]
    },
    {
      "cell_type": "code",
      "source": [
        "torch.arange(10).reshape(2,-1)"
      ],
      "metadata": {
        "colab": {
          "base_uri": "https://localhost:8080/"
        },
        "id": "HhirmMT7hFKm",
        "outputId": "16935eac-fa60-4a52-d28c-e32f04aebd42"
      },
      "execution_count": 19,
      "outputs": [
        {
          "output_type": "execute_result",
          "data": {
            "text/plain": [
              "tensor([[0, 1, 2, 3, 4],\n",
              "        [5, 6, 7, 8, 9]])"
            ]
          },
          "metadata": {},
          "execution_count": 19
        }
      ]
    },
    {
      "cell_type": "code",
      "source": [
        "torch.tensor([2,4,6])+torch.tensor([6,2,4])"
      ],
      "metadata": {
        "colab": {
          "base_uri": "https://localhost:8080/"
        },
        "id": "NHG0mzt2hFM4",
        "outputId": "e8e67bc9-11c0-4877-bf04-dfa58c2d3a84"
      },
      "execution_count": 20,
      "outputs": [
        {
          "output_type": "execute_result",
          "data": {
            "text/plain": [
              "tensor([ 8,  6, 10])"
            ]
          },
          "metadata": {},
          "execution_count": 20
        }
      ]
    },
    {
      "cell_type": "code",
      "source": [
        "torch.add(torch.tensor([2,4,6]),torch.tensor([6,2,4]))"
      ],
      "metadata": {
        "colab": {
          "base_uri": "https://localhost:8080/"
        },
        "id": "0YWrRhD-hFPE",
        "outputId": "4990d8fc-8bf0-4f11-d1d0-aa49c845b057"
      },
      "execution_count": 21,
      "outputs": [
        {
          "output_type": "execute_result",
          "data": {
            "text/plain": [
              "tensor([ 8,  6, 10])"
            ]
          },
          "metadata": {},
          "execution_count": 21
        }
      ]
    },
    {
      "cell_type": "code",
      "source": [
        "torch.sub(torch.tensor([2,4,6]),torch.tensor([6,2,4]))"
      ],
      "metadata": {
        "colab": {
          "base_uri": "https://localhost:8080/"
        },
        "id": "8YwTP37whFSf",
        "outputId": "1b9c5a73-7a44-459e-ac5e-90e64ca3ff69"
      },
      "execution_count": 22,
      "outputs": [
        {
          "output_type": "execute_result",
          "data": {
            "text/plain": [
              "tensor([-4,  2,  2])"
            ]
          },
          "metadata": {},
          "execution_count": 22
        }
      ]
    },
    {
      "cell_type": "code",
      "source": [
        "torch.mul(torch.tensor([2,4,6]),torch.tensor([6,2,4]))"
      ],
      "metadata": {
        "colab": {
          "base_uri": "https://localhost:8080/"
        },
        "id": "Y706pcKClKAK",
        "outputId": "5e11a71c-b721-4797-f6c3-9b9a6de4d639"
      },
      "execution_count": 23,
      "outputs": [
        {
          "output_type": "execute_result",
          "data": {
            "text/plain": [
              "tensor([12,  8, 24])"
            ]
          },
          "metadata": {},
          "execution_count": 23
        }
      ]
    },
    {
      "cell_type": "code",
      "source": [
        "torch.div(torch.tensor([2,4,6]),torch.tensor([6,2,4]))"
      ],
      "metadata": {
        "colab": {
          "base_uri": "https://localhost:8080/"
        },
        "id": "eKG69wdmlP0s",
        "outputId": "4e5e884a-2080-4c5a-e6cd-107679fb4bee"
      },
      "execution_count": 24,
      "outputs": [
        {
          "output_type": "execute_result",
          "data": {
            "text/plain": [
              "tensor([0.3333, 2.0000, 1.5000])"
            ]
          },
          "metadata": {},
          "execution_count": 24
        }
      ]
    },
    {
      "cell_type": "code",
      "source": [
        "torch.remainder(torch.tensor([2,4,6]),torch.tensor([6,2,4]))"
      ],
      "metadata": {
        "colab": {
          "base_uri": "https://localhost:8080/"
        },
        "id": "8He2hLhXlP3H",
        "outputId": "6b4b1d3a-6c9d-493f-d75e-825575c1ab1b"
      },
      "execution_count": 26,
      "outputs": [
        {
          "output_type": "execute_result",
          "data": {
            "text/plain": [
              "tensor([2, 0, 2])"
            ]
          },
          "metadata": {},
          "execution_count": 26
        }
      ]
    },
    {
      "cell_type": "code",
      "source": [
        "torch.pow(torch.tensor([2,4,6]),torch.tensor([6,2,4]))"
      ],
      "metadata": {
        "colab": {
          "base_uri": "https://localhost:8080/"
        },
        "id": "LGLm06yglfpF",
        "outputId": "38775902-de27-473c-bc12-bb73da000912"
      },
      "execution_count": 27,
      "outputs": [
        {
          "output_type": "execute_result",
          "data": {
            "text/plain": [
              "tensor([  64,   16, 1296])"
            ]
          },
          "metadata": {},
          "execution_count": 27
        }
      ]
    },
    {
      "cell_type": "code",
      "source": [
        "torch.tensor([2,4,6]).add_(torch.tensor([2,4,6]))"
      ],
      "metadata": {
        "colab": {
          "base_uri": "https://localhost:8080/"
        },
        "id": "tyWJf6XdlfrL",
        "outputId": "70b36936-3a85-46b0-85d0-9676abba2e56"
      },
      "execution_count": 29,
      "outputs": [
        {
          "output_type": "execute_result",
          "data": {
            "text/plain": [
              "tensor([ 4,  8, 12])"
            ]
          },
          "metadata": {},
          "execution_count": 29
        }
      ]
    },
    {
      "cell_type": "code",
      "source": [
        "# basic nn\n",
        "import torch.nn as nn\n",
        "import torch.nn.functional as F"
      ],
      "metadata": {
        "id": "k7tUriSalfuu"
      },
      "execution_count": 31,
      "outputs": []
    },
    {
      "cell_type": "code",
      "source": [
        "class model(nn.Module):\n",
        "\n",
        "    # inp - 4 feats\n",
        "    # hidden\n",
        "    # 3 classes predict\n",
        "\n",
        "    def __init__(self,n_feats=4,h1=8,h2=9,out_feats=3):\n",
        "        super().__init__()\n",
        "        self.fc1 = nn.Linear(n_feats,h1)\n",
        "        self.fc2 = nn.Linear(h1,h2)\n",
        "        self.out = nn.Linear(h2,out_feats)\n",
        "\n",
        "    def forward(self,x):\n",
        "        x = F.relu( self.fc1(x))\n",
        "        x = F.relu(self.fc2(x))\n",
        "        x =  self.out(x)\n",
        "\n",
        "        return x"
      ],
      "metadata": {
        "id": "4eNK2dTElP5h"
      },
      "execution_count": 37,
      "outputs": []
    },
    {
      "cell_type": "code",
      "source": [
        "torch.manual_seed(42)"
      ],
      "metadata": {
        "colab": {
          "base_uri": "https://localhost:8080/"
        },
        "id": "ol57hzHGlP7y",
        "outputId": "7f4115bf-583c-47cb-d724-7c71721bc3eb"
      },
      "execution_count": 35,
      "outputs": [
        {
          "output_type": "execute_result",
          "data": {
            "text/plain": [
              "<torch._C.Generator at 0x79b7b43a5b70>"
            ]
          },
          "metadata": {},
          "execution_count": 35
        }
      ]
    },
    {
      "cell_type": "code",
      "source": [
        "ann = model()"
      ],
      "metadata": {
        "id": "ozI8M2qblP-U"
      },
      "execution_count": 38,
      "outputs": []
    },
    {
      "cell_type": "code",
      "source": [],
      "metadata": {
        "id": "h6PqHR6pq9e1"
      },
      "execution_count": null,
      "outputs": []
    },
    {
      "cell_type": "code",
      "source": [],
      "metadata": {
        "id": "0-1EW4VKq9hX"
      },
      "execution_count": null,
      "outputs": []
    },
    {
      "cell_type": "code",
      "source": [],
      "metadata": {
        "id": "R1Xpti8fq9kz"
      },
      "execution_count": null,
      "outputs": []
    },
    {
      "cell_type": "code",
      "source": [],
      "metadata": {
        "id": "srIGZd9OlQAu"
      },
      "execution_count": null,
      "outputs": []
    },
    {
      "cell_type": "code",
      "source": [],
      "metadata": {
        "id": "rY38n_10lQEV"
      },
      "execution_count": null,
      "outputs": []
    }
  ]
}